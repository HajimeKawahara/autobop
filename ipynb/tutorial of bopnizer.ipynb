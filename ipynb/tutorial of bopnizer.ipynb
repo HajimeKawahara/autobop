{
 "cells": [
  {
   "cell_type": "code",
   "execution_count": 1,
   "metadata": {
    "collapsed": false
   },
   "outputs": [],
   "source": [
    "%matplotlib inline\n",
    "%load_ext autoreload\n",
    "%autoreload 2"
   ]
  },
  {
   "cell_type": "code",
   "execution_count": 2,
   "metadata": {
    "collapsed": true
   },
   "outputs": [],
   "source": [
    "import numpy as np\n",
    "import debugraphic\n",
    "import matplotlib\n",
    "import matplotlib.pyplot as plt\n",
    "import pylab \n",
    "import sound_definition\n",
    "import midinote\n",
    "import bopnizer"
   ]
  },
  {
   "cell_type": "markdown",
   "metadata": {},
   "source": [
    "### a concept of bridge behind the branch construction\n",
    "a bridge consists of 1 or -1 and is interpreted as a sequence of the difference "
   ]
  },
  {
   "cell_type": "code",
   "execution_count": 3,
   "metadata": {
    "collapsed": false
   },
   "outputs": [
    {
     "data": {
      "text/plain": [
       "array([array([ 1, -1,  1]), array([ 1,  1, -1]), array([-1,  1,  1])], dtype=object)"
      ]
     },
     "execution_count": 3,
     "metadata": {},
     "output_type": "execute_result"
    }
   ],
   "source": [
    "# generate bridges length of notes <= 5 \n",
    "bridgearr, sumq, lenq, rootq=bopnizer.generate_bridges(4)\n",
    "# select length = 3 and sum = 1\n",
    "bridgearr[(sumq==1)*(lenq==3)]"
   ]
  },
  {
   "cell_type": "code",
   "execution_count": 4,
   "metadata": {
    "collapsed": true
   },
   "outputs": [],
   "source": [
    "### The bridge is interpreted as the difference and is used to generate branches in bopnizer.py"
   ]
  },
  {
   "cell_type": "markdown",
   "metadata": {},
   "source": [
    "### connected branch\n",
    "the connected branch connects two different notes by a sequence of semitones"
   ]
  },
  {
   "cell_type": "code",
   "execution_count": 5,
   "metadata": {
    "collapsed": false
   },
   "outputs": [
    {
     "data": {
      "text/plain": [
       "'A Bb B'"
      ]
     },
     "execution_count": 5,
     "metadata": {},
     "output_type": "execute_result"
    }
   ],
   "source": [
    "# default is here\n",
    "q=bopnizer.connected_branch([33,35])\n",
    "\n",
    "#you can specify optionally \n",
    "#bridgearr, sumq, lenq, rootq=bopnizer.generate_bridges(4)\n",
    "#q=bopnizer.connected_branch([33,33],bridgearr=bridgearr, sumq=sumq, lenq=lenq, rootq=rootq)\n",
    "\n",
    "#or just specify, length of max bridge\n",
    "#q=bopnizer.connected_branch([33,33],n=6)\n",
    "\n",
    "midinote.sentence_midinotes(q)+\" \"+midinote.sentence_midinotes(35)"
   ]
  },
  {
   "cell_type": "markdown",
   "metadata": {},
   "source": [
    "### open branch\n",
    "the open branch is the sequence of semitones that approache a reference note"
   ]
  },
  {
   "cell_type": "code",
   "execution_count": 6,
   "metadata": {
    "collapsed": false
   },
   "outputs": [
    {
     "data": {
      "text/plain": [
       "'(D Db C B)->C'"
      ]
     },
     "execution_count": 6,
     "metadata": {},
     "output_type": "execute_result"
    }
   ],
   "source": [
    "q=bopnizer.open_branch(36)\n",
    "\"(\"+midinote.sentence_midinotes(q)+\")->\"+midinote.sentence_midinotes(36)"
   ]
  },
  {
   "cell_type": "code",
   "execution_count": 7,
   "metadata": {
    "collapsed": false
   },
   "outputs": [
    {
     "data": {
      "text/plain": [
       "'(E Eb D Db C B)->C'"
      ]
     },
     "execution_count": 7,
     "metadata": {},
     "output_type": "execute_result"
    }
   ],
   "source": [
    "q=bopnizer.open_branch(36,4,2,-1)\n",
    "\"(\"+midinote.sentence_midinotes(q)+\")->\"+midinote.sentence_midinotes(36)\n",
    "# length of the first branch is 4 \n",
    "# length of the second (closer) branch is 2 \n",
    "# -1 specifies the second branch exhibits the approach from the lower note\n",
    "# Hence, the above function should return (X X X Db Y B)->C' \n"
   ]
  },
  {
   "cell_type": "markdown",
   "metadata": {},
   "source": [
    "##### The below examples demonstrate that the open_branch can generate a variety of approaching phrases "
   ]
  },
  {
   "cell_type": "code",
   "execution_count": 8,
   "metadata": {
    "collapsed": false
   },
   "outputs": [
    {
     "data": {
      "text/plain": [
       "'(Db)->C'"
      ]
     },
     "execution_count": 8,
     "metadata": {},
     "output_type": "execute_result"
    }
   ],
   "source": [
    "# one note approach from an upper note\n",
    "q=bopnizer.open_branch(36,0,1,1)\n",
    "\"(\"+midinote.sentence_midinotes(q)+\")->\"+midinote.sentence_midinotes(36)"
   ]
  },
  {
   "cell_type": "code",
   "execution_count": 9,
   "metadata": {
    "collapsed": false
   },
   "outputs": [
    {
     "data": {
      "text/plain": [
       "'(B)->C'"
      ]
     },
     "execution_count": 9,
     "metadata": {},
     "output_type": "execute_result"
    }
   ],
   "source": [
    "#  note approach from a lower note\n",
    "q=bopnizer.open_branch(36,0,1,-1)\n",
    "\"(\"+midinote.sentence_midinotes(q)+\")->\"+midinote.sentence_midinotes(36)"
   ]
  },
  {
   "cell_type": "code",
   "execution_count": 10,
   "metadata": {
    "collapsed": false
   },
   "outputs": [
    {
     "data": {
      "text/plain": [
       "'(Eb D Db B)->C'"
      ]
     },
     "execution_count": 10,
     "metadata": {},
     "output_type": "execute_result"
    }
   ],
   "source": [
    "# three notes + one note approach from upper and lower notes\n",
    "q=bopnizer.open_branch(36,3,1,-1)\n",
    "\"(\"+midinote.sentence_midinotes(q)+\")->\"+midinote.sentence_midinotes(36)"
   ]
  },
  {
   "cell_type": "markdown",
   "metadata": {},
   "source": [
    "## Injecting the branch \n",
    "\n",
    "To inject the branch, the neighboring note in front of the target note (scout) and the lenght of the rest between these two notes are required. "
   ]
  },
  {
   "cell_type": "code",
   "execution_count": 11,
   "metadata": {
    "collapsed": true
   },
   "outputs": [],
   "source": [
    "# extract non rest pair (nrpnote, npdur), internotes rest length (irl)"
   ]
  },
  {
   "cell_type": "code",
   "execution_count": 12,
   "metadata": {
    "collapsed": false
   },
   "outputs": [
    {
     "ename": "NameError",
     "evalue": "name 'testnote' is not defined",
     "output_type": "error",
     "traceback": [
      "\u001b[0;31m---------------------------------------------------------------------------\u001b[0m",
      "\u001b[0;31mNameError\u001b[0m                                 Traceback (most recent call last)",
      "\u001b[0;32m<ipython-input-12-152adaeb7e69>\u001b[0m in \u001b[0;36m<module>\u001b[0;34m()\u001b[0m\n\u001b[0;32m----> 1\u001b[0;31m \u001b[0mnrpnote\u001b[0m\u001b[0;34m,\u001b[0m \u001b[0mnrpdur\u001b[0m\u001b[0;34m,\u001b[0m \u001b[0minterrest\u001b[0m\u001b[0;34m=\u001b[0m\u001b[0mbopnizer\u001b[0m\u001b[0;34m.\u001b[0m\u001b[0mextract_pairs\u001b[0m\u001b[0;34m(\u001b[0m\u001b[0mtestnote\u001b[0m\u001b[0;34m,\u001b[0m \u001b[0mtestdur\u001b[0m\u001b[0;34m)\u001b[0m\u001b[0;34m\u001b[0m\u001b[0m\n\u001b[0m",
      "\u001b[0;31mNameError\u001b[0m: name 'testnote' is not defined"
     ]
    }
   ],
   "source": [
    "nrpnote, nrpdur, interrest=bopnizer.extract_pairs(testnote, testdur)"
   ]
  },
  {
   "cell_type": "code",
   "execution_count": 64,
   "metadata": {
    "collapsed": false
   },
   "outputs": [
    {
     "data": {
      "text/plain": [
       "array([[None, 30],\n",
       "       [30, 33],\n",
       "       [33, 35],\n",
       "       [35, 30],\n",
       "       [30, 33]], dtype=object)"
      ]
     },
     "execution_count": 64,
     "metadata": {},
     "output_type": "execute_result"
    }
   ],
   "source": [
    "#neighboring notes pair [scout, target note]\n",
    "nrpnote"
   ]
  },
  {
   "cell_type": "code",
   "execution_count": 65,
   "metadata": {
    "collapsed": false
   },
   "outputs": [
    {
     "data": {
      "text/plain": [
       "array([[None, 120],\n",
       "       [120, 120],\n",
       "       [120, 118],\n",
       "       [118, 120],\n",
       "       [120, 120]], dtype=object)"
      ]
     },
     "execution_count": 65,
     "metadata": {},
     "output_type": "execute_result"
    }
   ],
   "source": [
    "#neighboring dur pair [scout, target note] \n",
    "nrpdur"
   ]
  },
  {
   "cell_type": "code",
   "execution_count": 35,
   "metadata": {
    "collapsed": false
   },
   "outputs": [
    {
     "data": {
      "text/plain": [
       "[120, 0, 2, 240, 0]"
      ]
     },
     "execution_count": 35,
     "metadata": {},
     "output_type": "execute_result"
    }
   ],
   "source": [
    "#internotes rest\n",
    "interrest"
   ]
  },
  {
   "cell_type": "markdown",
   "metadata": {},
   "source": [
    "### non-destructive branch injection"
   ]
  },
  {
   "cell_type": "code",
   "execution_count": 85,
   "metadata": {
    "collapsed": true
   },
   "outputs": [],
   "source": [
    "def injbranch_nondest(branch,newdur,newnote,targetdur,target,irest,branchdur):\n",
    "    numrest=-64\n",
    "    # the original notes\n",
    "    newdur.append(targetdur)\n",
    "    newnote.append(target)  \n",
    "    frontdur=irest\n",
    "    totalbdur=len(branch)*branchdur\n",
    "\n",
    "    # the branch\n",
    "    if frontdur>=totalbdur:\n",
    "        for j in range(0,len(branch)):\n",
    "            newdur.append(branchdur)\n",
    "            newnote.append(branch[j])\n",
    "    else:\n",
    "        newdur.append(frontdur)\n",
    "        newnote.append(numrest)\n",
    "\n",
    "    # the rest rest\n",
    "    if frontdur>totalbdur:\n",
    "        newdur.append(frontdur-totalbdur)\n",
    "        newnote.append(numrest)\n",
    "    return"
   ]
  },
  {
   "cell_type": "code",
   "execution_count": 90,
   "metadata": {
    "collapsed": false
   },
   "outputs": [],
   "source": [
    "#inverse ordering processing\n",
    "newnote=[]\n",
    "newdur=[]\n",
    "\n",
    "for i in range(0,len(nrpair))[::-1]:\n",
    "    branchdur=60\n",
    "    branch=bopnizer.open_branch(nrpnote[i][1],1,1,-1)\n",
    "    injbranch_nondest(branch,newdur,newnote,nrpdur[i][1],nrpnote[i][1],interrest[i],branchdur)\n",
    "\n",
    "newdur=newdur[::-1]\n",
    "newnote=newnote[::-1]"
   ]
  },
  {
   "cell_type": "code",
   "execution_count": 91,
   "metadata": {
    "collapsed": false
   },
   "outputs": [
    {
     "data": {
      "image/png": "[encoded data removed]",
      "text/plain": [
       "<matplotlib.figure.Figure at 0x1067f0750>"
      ]
     },
     "metadata": {},
     "output_type": "display_data"
    }
   ],
   "source": [
    "## test notes\n",
    "testnote=np.array([[-64],[30],[33],[-64],[35],[-64],[-64],[30],[33]])\n",
    "testdur=np.array([120,120,120,2,118,120,120,120,120])\n",
    "fig = plt.figure()\n",
    "ax=fig.add_subplot(111)\n",
    "\n",
    "debugraphic.plot_midiseq(ax,newnote, newdur,\"green\") \n",
    "debugraphic.plot_midiseq(ax,testnote, testdur) \n",
    "pylab.ylim(27,37)\n",
    "pylab.xlim(0,1200)\n",
    "plt.show()\n"
   ]
  },
  {
   "cell_type": "code",
   "execution_count": null,
   "metadata": {
    "collapsed": true
   },
   "outputs": [],
   "source": [
    "### front destructive injection\n",
    "# seq: target + allowed target list of dustruction \n",
    "def injbranch_frontdest(branch,newdur,newnote,targetdurseq,targetseq,irestseq,branchdur):\n",
    "    numrest=-64\n",
    "    frontdur=irest[-1]\n",
    "    totalbdur=len(branch)*branchdur\n",
    "\n",
    "    # non-destructive case\n",
    "    #if frontdur < totalbdur:\n",
    "    #    injbranch_nondest(branch,newdur,newnote,targetdurseq[0],targetseq[0],irestseq[0],branchdur)\n",
    "    #    return\n",
    "    \n",
    "    # the original notes\n",
    "    newdur.append(targetdur)\n",
    "    newnote.append(target)  \n",
    "        \n",
    "    for j in range(0,len(branch)): \n",
    "        newdur.append(branchdur)\n",
    "        newnote.append(branch[j])     \n",
    "        totaldur=totaldur-branchdur\n",
    "        if frontdur < totaldur\n",
    "            frontdur=frontdur+\n",
    "    \n",
    "    \n",
    "    # the branch\n",
    "    newdur.append(branchdur)\n",
    "    newnote.append(branch[j])\n",
    "\n",
    "    \n",
    "    # the rest rest\n",
    "    if frontdur>totalbdur:\n",
    "        newdur.append(frontdur-totalbdur)\n",
    "        newnote.append(numrest)\n",
    "\n",
    "#inverse ordering processing\n",
    "newnote=[]\n",
    "newdur=[]\n",
    "an=3 # limit of destruction\n",
    "for i in range(0,len(nrpair))[::-1]:\n",
    "    branchdur=60\n",
    "    branch=bopnizer.open_branch(nrpnote[i][1],1,1,-1)\n",
    "    iv=max(i-an,-1)\n",
    "    injbranch_frontdest(branch,newdur,newnote,nrpdur[iv:i,1],nrpnote[iv:i,1],interrest[iv:i],branchdur)\n",
    "\n",
    "newdur=newdur[::-1]\n",
    "newnote=newnote[::-1]"
   ]
  },
  {
   "cell_type": "code",
   "execution_count": 99,
   "metadata": {
    "collapsed": false
   },
   "outputs": [
    {
     "data": {
      "text/plain": [
       "array([120, 120], dtype=object)"
      ]
     },
     "execution_count": 99,
     "metadata": {},
     "output_type": "execute_result"
    }
   ],
   "source": [
    "nrpdur[0:2,1]"
   ]
  },
  {
   "cell_type": "code",
   "execution_count": 122,
   "metadata": {
    "collapsed": false
   },
   "outputs": [
    {
     "name": "stdout",
     "output_type": "stream",
     "text": [
      "4 1\n",
      "[2, 240, 0]\n",
      "3 0\n",
      "[0, 2, 240]\n",
      "2 -1\n",
      "[120, 0, 2]\n",
      "1 -1\n",
      "[120, 0]\n",
      "0 -1\n",
      "[120]\n"
     ]
    }
   ],
   "source": [
    "an=3\n",
    "for i in range(0,len(nrpair))[::-1]:\n",
    "    iv=max(i-an,-1)\n",
    "    print i, iv\n",
    "    print interrest[iv+1:i+1]\n"
   ]
  },
  {
   "cell_type": "code",
   "execution_count": 121,
   "metadata": {
    "collapsed": false
   },
   "outputs": [
    {
     "data": {
      "text/plain": [
       "[120, 0, 2, 240, 0]"
      ]
     },
     "execution_count": 121,
     "metadata": {},
     "output_type": "execute_result"
    }
   ],
   "source": [
    "interrest"
   ]
  },
  {
   "cell_type": "code",
   "execution_count": null,
   "metadata": {
    "collapsed": true
   },
   "outputs": [],
   "source": []
  }
 ],
 "metadata": {
  "kernelspec": {
   "display_name": "Python 3",
   "language": "python",
   "name": "python3"
  },
  "language_info": {
   "codemirror_mode": {
    "name": "ipython",
    "version": 3
   },
   "file_extension": ".py",
   "mimetype": "text/x-python",
   "name": "python",
   "nbconvert_exporter": "python",
   "pygments_lexer": "ipython3",
   "version": "3.6.0"
  },
  "toc": {
   "colors": {
    "hover_highlight": "#DAA520",
    "navigate_num": "#000000",
    "navigate_text": "#333333",
    "running_highlight": "#FF0000",
    "selected_highlight": "#FFD700",
    "sidebar_border": "#EEEEEE",
    "wrapper_background": "#FFFFFF"
   },
   "moveMenuLeft": true,
   "nav_menu": {
    "height": "129px",
    "width": "251px"
   },
   "navigate_menu": true,
   "number_sections": true,
   "sideBar": true,
   "threshold": 4,
   "toc_cell": false,
   "toc_section_display": "block",
   "toc_window_display": false,
   "widenNotebook": false
  }
 },
 "nbformat": 4,
 "nbformat_minor": 0
}
