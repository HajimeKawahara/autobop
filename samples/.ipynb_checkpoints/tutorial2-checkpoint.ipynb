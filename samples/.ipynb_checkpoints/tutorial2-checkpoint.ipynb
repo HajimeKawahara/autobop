{
 "cells": [
  {
   "cell_type": "markdown",
   "metadata": {},
   "source": [
    "# Autobop Tutorial 2 (using Jupyter)"
   ]
  },
  {
   "cell_type": "code",
   "execution_count": 1,
   "metadata": {
    "collapsed": true
   },
   "outputs": [],
   "source": [
    "%matplotlib inline\n",
    "import matplotlib\n",
    "import matplotlib.pyplot as plt\n",
    "import pylab \n",
    "\n",
    "from classAutobop import track\n",
    "import autobop\n",
    "import sheet\n",
    "import numpy as np\n",
    "import brownbop\n",
    "import sound_definition\n",
    "import debugraphic"
   ]
  },
  {
   "cell_type": "markdown",
   "metadata": {},
   "source": [
    "### setting"
   ]
  },
  {
   "cell_type": "code",
   "execution_count": 2,
   "metadata": {
    "collapsed": false
   },
   "outputs": [],
   "source": [
    "# read a band file\n",
    "band=autobop.read_personnel(\"brown.band\")"
   ]
  },
  {
   "cell_type": "code",
   "execution_count": 3,
   "metadata": {
    "collapsed": false
   },
   "outputs": [
    {
     "data": {
      "text/plain": [
       "{b'art': {'ch': 4,\n",
       "  'module': <module 'rhythmmachine' from '/home/kawahara/autobop/src/rhythmmachine.py'>,\n",
       "  'option': b'swing'},\n",
       " b'john': {'ch': 1,\n",
       "  'module': <module 'brownbop' from '/home/kawahara/autobop/src/brownbop.py'>,\n",
       "  'option': b'melody,test.ss'},\n",
       " b'paul': {'ch': 3,\n",
       "  'module': <module 'brownbop' from '/home/kawahara/autobop/src/brownbop.py'>,\n",
       "  'option': b'bass,test.ss'},\n",
       " b'tommy': {'ch': 2,\n",
       "  'module': <module 'brownbop' from '/home/kawahara/autobop/src/brownbop.py'>,\n",
       "  'option': b'piano,test.ss'}}"
      ]
     },
     "execution_count": 3,
     "metadata": {},
     "output_type": "execute_result"
    }
   ],
   "source": [
    "# your band members are john (melody: MIDI ch1), paul (bass: MIDI ch3), \n",
    "# tommy (piano: MIDI ch2), and art (drum: MIDI ch4). \n",
    "band"
   ]
  },
  {
   "cell_type": "code",
   "execution_count": 4,
   "metadata": {
    "collapsed": false
   },
   "outputs": [],
   "source": [
    "# read a chord progression file\n",
    "tseq, tkseq = sheet.read(\"giant.abs\")"
   ]
  },
  {
   "cell_type": "code",
   "execution_count": 5,
   "metadata": {
    "collapsed": false
   },
   "outputs": [
    {
     "data": {
      "text/plain": [
       "'Eb'"
      ]
     },
     "execution_count": 5,
     "metadata": {},
     "output_type": "execute_result"
    }
   ],
   "source": [
    "# tseq describes a sequence of tonic sg notes (from 0 to 11), which is different from the MIDI note.\n",
    "# tseq[0:3] #-> array([[11],[ 2],[ 7]])\n",
    "# you can know the correspondance of values of notes to CDEF... using getsg().  \n",
    "sg=sound_definition.getsg()\n",
    "sg[3]"
   ]
  },
  {
   "cell_type": "code",
   "execution_count": 6,
   "metadata": {
    "collapsed": false
   },
   "outputs": [],
   "source": [
    "# tkseq specifies a sequence of chord types\n",
    "# tkseq[0:3] #-> array(['Maj7', '7', 'Maj7'], dtype='|S4')"
   ]
  },
  {
   "cell_type": "code",
   "execution_count": 7,
   "metadata": {
    "collapsed": false
   },
   "outputs": [],
   "source": [
    "# of repititions\n",
    "nsamp=3\n",
    "tkseq = np.tile(tkseq, nsamp)\n",
    "tseq = np.tile(tseq, (nsamp,1))"
   ]
  },
  {
   "cell_type": "code",
   "execution_count": 8,
   "metadata": {
    "collapsed": true
   },
   "outputs": [],
   "source": [
    "# bpm\n",
    "bpm=320"
   ]
  },
  {
   "cell_type": "code",
   "execution_count": 9,
   "metadata": {
    "collapsed": true
   },
   "outputs": [],
   "source": [
    "# defining the duration of the tonic sequence (tonic duration; tdur)\n",
    "chordlength = 960\n",
    "tdur = np.full( len(tseq), chordlength, dtype=int )"
   ]
  },
  {
   "cell_type": "code",
   "execution_count": 10,
   "metadata": {
    "collapsed": true
   },
   "outputs": [],
   "source": [
    "# time of tdur\n",
    "ttime=np.cumsum(tdur)"
   ]
  },
  {
   "cell_type": "markdown",
   "metadata": {},
   "source": [
    "### initialize"
   ]
  },
  {
   "cell_type": "code",
   "execution_count": 11,
   "metadata": {
    "collapsed": false
   },
   "outputs": [
    {
     "name": "stdout",
     "output_type": "stream",
     "text": [
      "READ melody.farey\n",
      "n 4\n",
      "amplitude 30.0\n",
      "[b'1/4' b'1/3' b'1/2' b'2/3' b'3/4'] <=\n"
     ]
    }
   ],
   "source": [
    "control={} #current atmosphere\n",
    "trkband={}\n",
    "eachtcur={}\n",
    "for part in band.keys():\n",
    "    player = band[part]\n",
    "    trkband[part]=track()\n",
    "    #set control \n",
    "    eachtcur[part]=0\n",
    "    control[part]=player['module'].initialize(str(player[\"option\"],\"utf-8\"))\n",
    "    \n",
    "control[\"tcur\"]=eachtcur  # each current time of a player"
   ]
  },
  {
   "cell_type": "code",
   "execution_count": 14,
   "metadata": {
    "collapsed": false
   },
   "outputs": [
    {
     "name": "stdout",
     "output_type": "stream",
     "text": [
      "{'storydict': {'general': {'inst': ['melody', 'piano', 'bass', 'secondmel'], 'n': [10.0], 'bpm': [380.0]}, 'melody': {'master': [1.0], 'finger': [1.0], 'oct': [0.0], 'teff': [0.4, 0.2, 0.7, 0.5, 0.6, 0.2, 0.6, 0.2], 'H': [0.4, 0.2, 0.6, 0.5, 0.6, 0.3, 0.2], 'J': [2.0, 2.1, 2.2, 1.9], 'gauss-farey': ['melody.farey'], 'teff_estab': [0.2], 'len_estab': [4.0], 'stab': [0.5, 1.0], 'beat': [0.0, 240.0], 'blen': [480.0], 'velstab': [10.0, 0.0], 'velocgen': ['out.vel'], 'celfile': ['cel.list'], 'rhythm_pattern': ['rhythmgen'], 'rhyfile': ['test.rhy'], 'noct': [2.0], 'timer_stop_width': [10.0], 'timer_stop_c': [55.0], 'timer_start_width': [3.0], 'timer_start_c': [15.0]}, 'secondmel': {'master': [1.0], 'finger': [1.0], 'oct': [0.0], 'teff': [0.3, 0.5, 0.4, 0.7, 1.3, 1.5, 2.5], 'H': [0.6, 0.7, 0.4, 0.5, 0.3, 0.5, 0.7, 0.6], 'J': [3.0, 2.5, 3.0, 2.5], 'off': ['-1', '61440'], 'gauss-farey': ['secondmel.farey'], 'teff_estab': [0.2], 'len_estab': [4.0], 'stab': [0.7, 1.0], 'beat': [0.0, 240.0], 'blen': [480.0], 'celfile': ['cel.list'], 'rhythm_pattern': ['rhythmgen'], 'rhyfile': ['test.rhy'], 'noct': [2.0], 'velstab': [10.0, 0.0], 'timer_stop_width': [7.0], 'timer_stop_c': [55.0], 'timer_start_width': [5.0], 'timer_start_c': [18.0], 'velocgen': ['out.vel']}, 'bass': {'master': [0.99], 'finger': [1.0], 'oct': ['-2'], 'teff': [0.025], 'H': [0.6], 'J': [2.0], 'off': [153600.0, 184320.0], 'stab': [0.7, 1.0], 'beat': [0.0, 240.0], 'blen': [480.0], 'velstab': [10.0, 0.0], 'celfile': ['celb.list'], 'rhythm_pattern': ['4beat'], 'noct': [3.0], 'velocgen': ['out.vel'], 'timer_stop_width': [5.0], 'timer_stop_c': [50.0], 'timer_start_width': [1.0], 'timer_start_c': [0.0], 'teff_estab': [0.2], 'len_estab': [0.0]}, 'piano': {'master': [0.99], 'finger': [5.0], 'oct': ['-1'], 'teff': [0.1, 0.1, 0.1], 'H': [0.8, 0.9, 0.7], 'J': [2.0, 2.0, 2.0], 'teff_estab': [0.2], 'len_estab': [0.0], 'stab': [0.7, 1.0], 'beat': [0.0, 240.0], 'blen': [480.0], 'velstab': [10.0, 0.0], 'celfile': ['cel.list'], 'rhythm_pattern': ['test'], 'noct': [3.0], 'timer_stop_width': [5.0], 'timer_stop_c': [40.0], 'timer_start_width': [0.01], 'timer_start_c': [0.0]}}, 'onoff': True, 'iphrase': 0, 'inst': 'melody', 'H': 0.4, 'J': 2.0, 'teff': 0.4, 'gauss': 'gauss-farey', 'gauss-farey-n': 4, 'gauss-farey-amp': 30.0, 'gauss-farey-weight': array([ 0.2       ,  0.40000001,  0.60000002,  0.80000001,  1.        ], dtype=float32), 'velarr': array([[  84.,   83.,   83., ...,   59.,   59.,   59.],\n",
      "       [  84.,   84.,   83., ...,   59.,   59.,   59.],\n",
      "       [  85.,   84.,   84., ...,   59.,   59.,   59.],\n",
      "       ..., \n",
      "       [ 104.,  104.,  104., ...,   91.,   90.,   88.],\n",
      "       [ 104.,  104.,  104., ...,   92.,   91.,   90.],\n",
      "       [ 104.,  104.,  104., ...,   93.,   92.,   91.]])}\n"
     ]
    }
   ],
   "source": [
    "print(control[b'john'])"
   ]
  },
  {
   "cell_type": "markdown",
   "metadata": {},
   "source": [
    "### main loop"
   ]
  },
  {
   "cell_type": "code",
   "execution_count": 15,
   "metadata": {
    "collapsed": false
   },
   "outputs": [
    {
     "name": "stdout",
     "output_type": "stream",
     "text": [
      "b'john' H= 0.4 J= 2.0 teff 0.4\n",
      "Farey = 3 / 4\n",
      "rhythmgen\n",
      "test.rhy\n",
      "b'tommy' H= 0.8 J= 2.0 teff 0.1\n",
      "b'paul' H= 0.6 J= 2.0 teff 0.025\n",
      "b'paul' H= 0.6 J= 2.0 teff 0.025\n",
      "b'john' H= 0.2 J= 2.1 teff 0.2\n",
      "Farey = 1 / 2\n",
      "rhythmgen\n",
      "test.rhy\n",
      "b'tommy' H= 0.9 J= 2.0 teff 0.1\n",
      "b'paul' H= 0.6 J= 2.0 teff 0.025\n",
      "b'john' H= 0.6 J= 2.2 teff 0.7\n",
      "Farey = 1 / 4\n",
      "rhythmgen\n",
      "test.rhy\n",
      "b'paul' H= 0.6 J= 2.0 teff 0.025\n",
      "b'john' H= 0.5 J= 1.9 teff 0.5\n",
      "Farey = 1 / 2\n",
      "rhythmgen\n",
      "test.rhy\n",
      "b'tommy' H= 0.7 J= 2.0 teff 0.1\n",
      "b'john' H= 0.6 J= 2.0 teff 0.6\n",
      "Farey = 2 / 3\n",
      "rhythmgen\n",
      "test.rhy\n",
      "b'paul' H= 0.6 J= 2.0 teff 0.025\n",
      "b'john' H= 0.3 J= 2.1 teff 0.2\n",
      "Farey = 1 / 3\n",
      "rhythmgen\n",
      "test.rhy\n"
     ]
    }
   ],
   "source": [
    "while min( control['tcur'].values() ) < ttime[-1]:\n",
    "    part = min( control['tcur'].items(), key=lambda x:x[1])[0]\n",
    "    player=band[part]       \n",
    "    trk, control = player['module'].improvise(tseq, tkseq, ttime, part, control)\n",
    "    trkband[part].join(trk)\n",
    "    control['tcur'][part] = np.sum(trkband[part].dur)"
   ]
  },
  {
   "cell_type": "code",
   "execution_count": 16,
   "metadata": {
    "collapsed": true
   },
   "outputs": [],
   "source": [
    "# triming \n",
    "for part in trkband:\n",
    "        trkband[part].truncate( ttime[-1] )"
   ]
  },
  {
   "cell_type": "markdown",
   "metadata": {},
   "source": [
    "### results"
   ]
  },
  {
   "cell_type": "code",
   "execution_count": 17,
   "metadata": {
    "collapsed": false
   },
   "outputs": [
    {
     "data": {
      "text/plain": [
       "{b'art': <classAutobop.track at 0x7f32ec2063c8>,\n",
       " b'john': <classAutobop.track at 0x7f32ec1e4e48>,\n",
       " b'paul': <classAutobop.track at 0x7f32ec1f9c88>,\n",
       " b'tommy': <classAutobop.track at 0x7f32ec1e4ef0>}"
      ]
     },
     "execution_count": 17,
     "metadata": {},
     "output_type": "execute_result"
    }
   ],
   "source": [
    "trkband"
   ]
  },
  {
   "cell_type": "markdown",
   "metadata": {},
   "source": [
    "#### There are three fundamental methods in track class: duration, MIDI note, and velocity"
   ]
  },
  {
   "cell_type": "code",
   "execution_count": 19,
   "metadata": {
    "collapsed": false
   },
   "outputs": [
    {
     "data": {
      "text/plain": [
       "array([  1, 479, 240, 240, 480])"
      ]
     },
     "execution_count": 19,
     "metadata": {},
     "output_type": "execute_result"
    }
   ],
   "source": [
    "# duration\n",
    "trkband[b'john'].dur[0:5]"
   ]
  },
  {
   "cell_type": "code",
   "execution_count": 20,
   "metadata": {
    "collapsed": false
   },
   "outputs": [
    {
     "data": {
      "text/plain": [
       "array([[-64],\n",
       "       [ 66],\n",
       "       [-64],\n",
       "       [ 61],\n",
       "       [ 62]])"
      ]
     },
     "execution_count": 20,
     "metadata": {},
     "output_type": "execute_result"
    }
   ],
   "source": [
    "# MIDI notes  \n",
    "trkband[b'john'].note[0:5]"
   ]
  },
  {
   "cell_type": "code",
   "execution_count": 21,
   "metadata": {
    "collapsed": false
   },
   "outputs": [
    {
     "data": {
      "image/png": "[encoded data removed]",
      "text/plain": [
       "<matplotlib.figure.Figure at 0x7f32b7aaf940>"
      ]
     },
     "metadata": {},
     "output_type": "display_data"
    }
   ],
   "source": [
    "# display MIDI notes of john\n",
    "fig = plt.figure()\n",
    "ax=fig.add_subplot(211)\n",
    "debugraphic.plot_midiseq(ax,trkband[b'john'].note[0:100], trkband[b'john'].dur[0:100]) \n",
    "ax=fig.add_subplot(212)\n",
    "debugraphic.plot_midiseq(ax,trkband[b'john'].note[100:200], trkband[b'john'].dur[100:200]) \n",
    "plt.show()"
   ]
  },
  {
   "cell_type": "code",
   "execution_count": 22,
   "metadata": {
    "collapsed": false
   },
   "outputs": [
    {
     "data": {
      "text/plain": [
       "array([[10],\n",
       "       [87],\n",
       "       [10],\n",
       "       [73],\n",
       "       [87]])"
      ]
     },
     "execution_count": 22,
     "metadata": {},
     "output_type": "execute_result"
    }
   ],
   "source": [
    "# velocity\n",
    "trkband[b'john'].vel[0:5]"
   ]
  },
  {
   "cell_type": "code",
   "execution_count": null,
   "metadata": {
    "collapsed": true
   },
   "outputs": [],
   "source": []
  }
 ],
 "metadata": {
  "kernelspec": {
   "display_name": "Python 3",
   "language": "python",
   "name": "python3"
  },
  "language_info": {
   "codemirror_mode": {
    "name": "ipython",
    "version": 3
   },
   "file_extension": ".py",
   "mimetype": "text/x-python",
   "name": "python",
   "nbconvert_exporter": "python",
   "pygments_lexer": "ipython3",
   "version": "3.6.0"
  },
  "toc": {
   "colors": {
    "hover_highlight": "#DAA520",
    "navigate_num": "#000000",
    "navigate_text": "#333333",
    "running_highlight": "#FF0000",
    "selected_highlight": "#FFD700",
    "sidebar_border": "#EEEEEE",
    "wrapper_background": "#FFFFFF"
   },
   "moveMenuLeft": true,
   "nav_menu": {
    "height": "129px",
    "width": "251px"
   },
   "navigate_menu": true,
   "number_sections": true,
   "sideBar": true,
   "threshold": 4,
   "toc_cell": false,
   "toc_section_display": "block",
   "toc_window_display": false,
   "widenNotebook": false
  }
 },
 "nbformat": 4,
 "nbformat_minor": 0
}
